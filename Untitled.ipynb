{
 "cells": [
  {
   "cell_type": "code",
   "execution_count": 2,
   "id": "46a645c1-3172-406d-a2da-cbb4da9483fc",
   "metadata": {},
   "outputs": [
    {
     "name": "stdout",
     "output_type": "stream",
     "text": [
      "/global/u1/c/cjacobus/ECEi_Detector/yolov5\n",
      "HEAD is now at 886f1c0 DDP after autoanchor reorder (#2421)\n",
      "Defaulting to user installation because normal site-packages is not writeable\n",
      "Requirement already satisfied: roboflow in /global/u1/c/cjacobus/.local/perlmutter/pytorch1.9.0/lib/python3.8/site-packages (0.2.2)\n",
      "Requirement already satisfied: PyYAML>=5.3.1 in /global/common/software/nersc/shasta2105/pytorch/1.9.0/lib/python3.8/site-packages (from roboflow) (5.4.1)\n",
      "Requirement already satisfied: tqdm>=4.41.0 in /global/common/software/nersc/shasta2105/pytorch/1.9.0/lib/python3.8/site-packages (from roboflow) (4.62.2)\n",
      "Requirement already satisfied: numpy>=1.18.5 in /global/common/software/nersc/shasta2105/pytorch/1.9.0/lib/python3.8/site-packages (from roboflow) (1.20.3)\n",
      "Requirement already satisfied: python-dotenv in /global/u1/c/cjacobus/.local/perlmutter/pytorch1.9.0/lib/python3.8/site-packages (from roboflow) (0.19.2)\n",
      "Requirement already satisfied: python-dateutil in /global/common/software/nersc/shasta2105/pytorch/1.9.0/lib/python3.8/site-packages (from roboflow) (2.8.2)\n",
      "Requirement already satisfied: kiwisolver==1.3.1 in /global/common/software/nersc/shasta2105/pytorch/1.9.0/lib/python3.8/site-packages (from roboflow) (1.3.1)\n",
      "Requirement already satisfied: cycler==0.10.0 in /global/common/software/nersc/shasta2105/pytorch/1.9.0/lib/python3.8/site-packages (from roboflow) (0.10.0)\n",
      "Requirement already satisfied: requests in /global/common/software/nersc/shasta2105/pytorch/1.9.0/lib/python3.8/site-packages (from roboflow) (2.26.0)\n",
      "Requirement already satisfied: matplotlib in /global/common/software/nersc/shasta2105/pytorch/1.9.0/lib/python3.8/site-packages (from roboflow) (3.4.2)\n",
      "Requirement already satisfied: Pillow>=7.1.2 in /global/common/software/nersc/shasta2105/pytorch/1.9.0/lib/python3.8/site-packages (from roboflow) (8.3.1)\n",
      "Requirement already satisfied: opencv-python>=4.1.2 in /global/u1/c/cjacobus/.local/perlmutter/pytorch1.9.0/lib/python3.8/site-packages (from roboflow) (4.5.5.64)\n",
      "Requirement already satisfied: pyparsing==2.4.7 in /global/common/software/nersc/shasta2105/pytorch/1.9.0/lib/python3.8/site-packages (from roboflow) (2.4.7)\n",
      "Requirement already satisfied: chardet==4.0.0 in /global/u1/c/cjacobus/.local/perlmutter/pytorch1.9.0/lib/python3.8/site-packages (from roboflow) (4.0.0)\n",
      "Requirement already satisfied: certifi==2021.5.30 in /global/common/software/nersc/shasta2105/pytorch/1.9.0/lib/python3.8/site-packages (from roboflow) (2021.5.30)\n",
      "Requirement already satisfied: six in /global/common/software/nersc/shasta2105/pytorch/1.9.0/lib/python3.8/site-packages (from roboflow) (1.16.0)\n",
      "Requirement already satisfied: urllib3==1.26.6 in /global/common/software/nersc/shasta2105/pytorch/1.9.0/lib/python3.8/site-packages (from roboflow) (1.26.6)\n",
      "Requirement already satisfied: wget in /global/u1/c/cjacobus/.local/perlmutter/pytorch1.9.0/lib/python3.8/site-packages (from roboflow) (3.2)\n",
      "Requirement already satisfied: idna==2.10 in /global/u1/c/cjacobus/.local/perlmutter/pytorch1.9.0/lib/python3.8/site-packages (from roboflow) (2.10)\n",
      "Requirement already satisfied: charset-normalizer~=2.0.0 in /global/common/software/nersc/shasta2105/pytorch/1.9.0/lib/python3.8/site-packages (from requests->roboflow) (2.0.4)\n",
      "Setup complete. Using torch 1.9.0 _CudaDeviceProperties(name='A100-PCIE-40GB', major=8, minor=0, total_memory=40537MB, multi_processor_count=108)\n"
     ]
    }
   ],
   "source": [
    "%cd yolov5\n",
    "!git reset --hard 886f1c03d839575afecb059accf74296fad395b6\n",
    "\n",
    "# install dependencies as necessary\n",
    "!pip install -qr requirements.txt  # install dependencies (ignore errors)\n",
    "import torch\n",
    "!pip install roboflow\n",
    "\n",
    "from IPython.display import Image, clear_output  # to display images\n",
    "from utils.google_utils import gdrive_download  # to download models/datasets\n",
    "\n",
    "# clear_output()\n",
    "print('Setup complete. Using torch %s %s' % (torch.__version__, torch.cuda.get_device_properties(0) if torch.cuda.is_available() else 'CPU'))"
   ]
  },
  {
   "cell_type": "code",
   "execution_count": null,
   "id": "94e9812c-4489-46f4-a6b1-b9dff91d8cd0",
   "metadata": {},
   "outputs": [],
   "source": []
  },
  {
   "cell_type": "code",
   "execution_count": 8,
   "id": "c719af19-69a1-42bd-b17c-3c864bbbaa44",
   "metadata": {},
   "outputs": [
    {
     "name": "stdout",
     "output_type": "stream",
     "text": [
      "Namespace(agnostic_nms=False, augment=False, classes=None, conf_thres=0.4, device='', exist_ok=False, img_size=416, iou_thres=0.45, name='exp', project='runs/detect', save_conf=False, save_txt=False, source='/global/u1/c/cjacobus/ECEi_Detector/yolov5/data/test/images', update=False, view_img=False, weights=['/global/u1/c/cjacobus/ECEi_Detector/yolov5/best.pt'])\n",
      "YOLOv5 v4.0-126-g886f1c0 torch 1.9.0 CUDA:0 (A100-PCIE-40GB, 40537.1875MB)\n",
      "\n",
      "Fusing layers... \n",
      "/global/common/software/nersc/shasta2105/pytorch/1.9.0/lib/python3.8/site-packages/torch/nn/functional.py:718: UserWarning: Named tensors and all their associated APIs are an experimental feature and subject to change. Please do not use them for anything important until they are released as stable. (Triggered internally at  ../c10/core/TensorImpl.h:1153.)\n",
      "  return torch.max_pool2d(input, kernel_size, stride, padding, dilation, ceil_mode)\n",
      "Model Summary: 232 layers, 7246518 parameters, 0 gradients, 16.8 GFLOPS\n",
      "image 1/15 /global/u1/c/cjacobus/ECEi_Detector/yolov5/data/test/images/COLOR_1512_png.rf.f5159ca83703b792e647ecf97f2a7afe.jpg: 416x160 1 Filament, Done. (0.074s)\n",
      "image 2/15 /global/u1/c/cjacobus/ECEi_Detector/yolov5/data/test/images/COLOR_20805_png.rf.5c3e48187ba8233cb945be6c655f19c3.jpg: 416x160 1 Filament, Done. (0.017s)\n",
      "image 3/15 /global/u1/c/cjacobus/ECEi_Detector/yolov5/data/test/images/COLOR_21697_png.rf.89e08e0b35782b558cd923905bd6a81e.jpg: 416x160 Done. (0.016s)\n",
      "image 4/15 /global/u1/c/cjacobus/ECEi_Detector/yolov5/data/test/images/COLOR_21726_png.rf.d719077e67820334b7a2f6fc5e651cb9.jpg: 416x160 1 Filament, Done. (0.016s)\n",
      "image 5/15 /global/u1/c/cjacobus/ECEi_Detector/yolov5/data/test/images/COLOR_24193_png.rf.1b69e9853d86610c2cbcba273c622601.jpg: 416x160 1 Filament, Done. (0.016s)\n",
      "image 6/15 /global/u1/c/cjacobus/ECEi_Detector/yolov5/data/test/images/COLOR_34072_png.rf.2c3ce15e676fc6a76ddddd892a7857d0.jpg: 416x160 Done. (0.016s)\n",
      "image 7/15 /global/u1/c/cjacobus/ECEi_Detector/yolov5/data/test/images/COLOR_42768_png.rf.5d8b959520524d17d4fcaded6c47cf55.jpg: 416x160 1 Filament, Done. (0.017s)\n",
      "image 8/15 /global/u1/c/cjacobus/ECEi_Detector/yolov5/data/test/images/COLOR_44730_png.rf.0b32ada51eeb67813891155768c9d62a.jpg: 416x160 1 Filament, Done. (0.017s)\n",
      "image 9/15 /global/u1/c/cjacobus/ECEi_Detector/yolov5/data/test/images/COLOR_45984_png.rf.1dc8d745908c7d82ceac90dba6ff6cd5.jpg: 416x160 1 Filament, Done. (0.016s)\n",
      "image 10/15 /global/u1/c/cjacobus/ECEi_Detector/yolov5/data/test/images/COLOR_47377_png.rf.ca56cd9bfd2f8d50997fa24f9fafd341.jpg: 416x160 1 Filament, Done. (0.016s)\n",
      "image 11/15 /global/u1/c/cjacobus/ECEi_Detector/yolov5/data/test/images/COLOR_56221_png.rf.7f9dfabf7f2fa202ef09e6cc9415af6a.jpg: 416x160 1 Filament, Done. (0.016s)\n",
      "image 12/15 /global/u1/c/cjacobus/ECEi_Detector/yolov5/data/test/images/COLOR_58373_png.rf.e0615b603f09f2a39a94e6f63de0247d.jpg: 416x160 Done. (0.016s)\n",
      "image 13/15 /global/u1/c/cjacobus/ECEi_Detector/yolov5/data/test/images/COLOR_61589_png.rf.6938cebb9a2fa46bee43ef1c14ce414c.jpg: 416x160 1 Filament, Done. (0.016s)\n",
      "image 14/15 /global/u1/c/cjacobus/ECEi_Detector/yolov5/data/test/images/COLOR_93523_png.rf.78c6fae44c488882c996af50e36a9980.jpg: 416x160 1 Filament, Done. (0.016s)\n",
      "image 15/15 /global/u1/c/cjacobus/ECEi_Detector/yolov5/data/test/images/COLOR_96731_png.rf.3af75e8364a199ebc5fadb6516fd8c4d.jpg: 416x160 1 Filament, Done. (0.017s)\n",
      "Results saved to runs/detect/exp\n",
      "Done. (0.411s)\n"
     ]
    }
   ],
   "source": [
    "!python detect.py --weights /global/u1/c/cjacobus/ECEi_Detector/yolov5/best.pt --img 416 --conf 0.4 --source /global/u1/c/cjacobus/ECEi_Detector/yolov5/data/test/images"
   ]
  },
  {
   "cell_type": "code",
   "execution_count": 9,
   "id": "b1583638-9676-412e-80e6-d6bc741fbb3a",
   "metadata": {},
   "outputs": [
    {
     "ename": "ModuleNotFoundError",
     "evalue": "No module named 'cv2'",
     "output_type": "error",
     "traceback": [
      "\u001b[0;31m---------------------------------------------------------------------------\u001b[0m",
      "\u001b[0;31mModuleNotFoundError\u001b[0m                       Traceback (most recent call last)",
      "\u001b[0;32m/tmp/ipykernel_127934/1392907171.py\u001b[0m in \u001b[0;36m<module>\u001b[0;34m\u001b[0m\n\u001b[0;32m----> 1\u001b[0;31m \u001b[0mmodel\u001b[0m \u001b[0;34m=\u001b[0m \u001b[0mtorch\u001b[0m\u001b[0;34m.\u001b[0m\u001b[0mload\u001b[0m\u001b[0;34m(\u001b[0m\u001b[0;34m'/global/u1/c/cjacobus/ECEi_Detector/yolov5/best.pt'\u001b[0m\u001b[0;34m)\u001b[0m\u001b[0;34m\u001b[0m\u001b[0;34m\u001b[0m\u001b[0m\n\u001b[0m",
      "\u001b[0;32m/global/common/software/nersc/shasta2105/pytorch/1.9.0/lib/python3.8/site-packages/torch/serialization.py\u001b[0m in \u001b[0;36mload\u001b[0;34m(f, map_location, pickle_module, **pickle_load_args)\u001b[0m\n\u001b[1;32m    605\u001b[0m                     \u001b[0mopened_file\u001b[0m\u001b[0;34m.\u001b[0m\u001b[0mseek\u001b[0m\u001b[0;34m(\u001b[0m\u001b[0morig_position\u001b[0m\u001b[0;34m)\u001b[0m\u001b[0;34m\u001b[0m\u001b[0;34m\u001b[0m\u001b[0m\n\u001b[1;32m    606\u001b[0m                     \u001b[0;32mreturn\u001b[0m \u001b[0mtorch\u001b[0m\u001b[0;34m.\u001b[0m\u001b[0mjit\u001b[0m\u001b[0;34m.\u001b[0m\u001b[0mload\u001b[0m\u001b[0;34m(\u001b[0m\u001b[0mopened_file\u001b[0m\u001b[0;34m)\u001b[0m\u001b[0;34m\u001b[0m\u001b[0;34m\u001b[0m\u001b[0m\n\u001b[0;32m--> 607\u001b[0;31m                 \u001b[0;32mreturn\u001b[0m \u001b[0m_load\u001b[0m\u001b[0;34m(\u001b[0m\u001b[0mopened_zipfile\u001b[0m\u001b[0;34m,\u001b[0m \u001b[0mmap_location\u001b[0m\u001b[0;34m,\u001b[0m \u001b[0mpickle_module\u001b[0m\u001b[0;34m,\u001b[0m \u001b[0;34m**\u001b[0m\u001b[0mpickle_load_args\u001b[0m\u001b[0;34m)\u001b[0m\u001b[0;34m\u001b[0m\u001b[0;34m\u001b[0m\u001b[0m\n\u001b[0m\u001b[1;32m    608\u001b[0m         \u001b[0;32mreturn\u001b[0m \u001b[0m_legacy_load\u001b[0m\u001b[0;34m(\u001b[0m\u001b[0mopened_file\u001b[0m\u001b[0;34m,\u001b[0m \u001b[0mmap_location\u001b[0m\u001b[0;34m,\u001b[0m \u001b[0mpickle_module\u001b[0m\u001b[0;34m,\u001b[0m \u001b[0;34m**\u001b[0m\u001b[0mpickle_load_args\u001b[0m\u001b[0;34m)\u001b[0m\u001b[0;34m\u001b[0m\u001b[0;34m\u001b[0m\u001b[0m\n\u001b[1;32m    609\u001b[0m \u001b[0;34m\u001b[0m\u001b[0m\n",
      "\u001b[0;32m/global/common/software/nersc/shasta2105/pytorch/1.9.0/lib/python3.8/site-packages/torch/serialization.py\u001b[0m in \u001b[0;36m_load\u001b[0;34m(zip_file, map_location, pickle_module, pickle_file, **pickle_load_args)\u001b[0m\n\u001b[1;32m    880\u001b[0m     \u001b[0munpickler\u001b[0m \u001b[0;34m=\u001b[0m \u001b[0mUnpicklerWrapper\u001b[0m\u001b[0;34m(\u001b[0m\u001b[0mdata_file\u001b[0m\u001b[0;34m,\u001b[0m \u001b[0;34m**\u001b[0m\u001b[0mpickle_load_args\u001b[0m\u001b[0;34m)\u001b[0m\u001b[0;34m\u001b[0m\u001b[0;34m\u001b[0m\u001b[0m\n\u001b[1;32m    881\u001b[0m     \u001b[0munpickler\u001b[0m\u001b[0;34m.\u001b[0m\u001b[0mpersistent_load\u001b[0m \u001b[0;34m=\u001b[0m \u001b[0mpersistent_load\u001b[0m\u001b[0;34m\u001b[0m\u001b[0;34m\u001b[0m\u001b[0m\n\u001b[0;32m--> 882\u001b[0;31m     \u001b[0mresult\u001b[0m \u001b[0;34m=\u001b[0m \u001b[0munpickler\u001b[0m\u001b[0;34m.\u001b[0m\u001b[0mload\u001b[0m\u001b[0;34m(\u001b[0m\u001b[0;34m)\u001b[0m\u001b[0;34m\u001b[0m\u001b[0;34m\u001b[0m\u001b[0m\n\u001b[0m\u001b[1;32m    883\u001b[0m \u001b[0;34m\u001b[0m\u001b[0m\n\u001b[1;32m    884\u001b[0m     \u001b[0mtorch\u001b[0m\u001b[0;34m.\u001b[0m\u001b[0m_utils\u001b[0m\u001b[0;34m.\u001b[0m\u001b[0m_validate_loaded_sparse_tensors\u001b[0m\u001b[0;34m(\u001b[0m\u001b[0;34m)\u001b[0m\u001b[0;34m\u001b[0m\u001b[0;34m\u001b[0m\u001b[0m\n",
      "\u001b[0;32m/global/common/software/nersc/shasta2105/pytorch/1.9.0/lib/python3.8/site-packages/torch/serialization.py\u001b[0m in \u001b[0;36mfind_class\u001b[0;34m(self, mod_name, name)\u001b[0m\n\u001b[1;32m    873\u001b[0m         \u001b[0;32mdef\u001b[0m \u001b[0mfind_class\u001b[0m\u001b[0;34m(\u001b[0m\u001b[0mself\u001b[0m\u001b[0;34m,\u001b[0m \u001b[0mmod_name\u001b[0m\u001b[0;34m,\u001b[0m \u001b[0mname\u001b[0m\u001b[0;34m)\u001b[0m\u001b[0;34m:\u001b[0m\u001b[0;34m\u001b[0m\u001b[0;34m\u001b[0m\u001b[0m\n\u001b[1;32m    874\u001b[0m             \u001b[0mmod_name\u001b[0m \u001b[0;34m=\u001b[0m \u001b[0mload_module_mapping\u001b[0m\u001b[0;34m.\u001b[0m\u001b[0mget\u001b[0m\u001b[0;34m(\u001b[0m\u001b[0mmod_name\u001b[0m\u001b[0;34m,\u001b[0m \u001b[0mmod_name\u001b[0m\u001b[0;34m)\u001b[0m\u001b[0;34m\u001b[0m\u001b[0;34m\u001b[0m\u001b[0m\n\u001b[0;32m--> 875\u001b[0;31m             \u001b[0;32mreturn\u001b[0m \u001b[0msuper\u001b[0m\u001b[0;34m(\u001b[0m\u001b[0;34m)\u001b[0m\u001b[0;34m.\u001b[0m\u001b[0mfind_class\u001b[0m\u001b[0;34m(\u001b[0m\u001b[0mmod_name\u001b[0m\u001b[0;34m,\u001b[0m \u001b[0mname\u001b[0m\u001b[0;34m)\u001b[0m\u001b[0;34m\u001b[0m\u001b[0;34m\u001b[0m\u001b[0m\n\u001b[0m\u001b[1;32m    876\u001b[0m \u001b[0;34m\u001b[0m\u001b[0m\n\u001b[1;32m    877\u001b[0m     \u001b[0;31m# Load the data (which may in turn use `persistent_load` to load tensors)\u001b[0m\u001b[0;34m\u001b[0m\u001b[0;34m\u001b[0m\u001b[0;34m\u001b[0m\u001b[0m\n",
      "\u001b[0;32m/global/u1/c/cjacobus/ECEi_Detector/yolov5/models/yolo.py\u001b[0m in \u001b[0;36m<module>\u001b[0;34m\u001b[0m\n\u001b[1;32m      7\u001b[0m \u001b[0mlogger\u001b[0m \u001b[0;34m=\u001b[0m \u001b[0mlogging\u001b[0m\u001b[0;34m.\u001b[0m\u001b[0mgetLogger\u001b[0m\u001b[0;34m(\u001b[0m\u001b[0m__name__\u001b[0m\u001b[0;34m)\u001b[0m\u001b[0;34m\u001b[0m\u001b[0;34m\u001b[0m\u001b[0m\n\u001b[1;32m      8\u001b[0m \u001b[0;34m\u001b[0m\u001b[0m\n\u001b[0;32m----> 9\u001b[0;31m \u001b[0;32mfrom\u001b[0m \u001b[0mmodels\u001b[0m\u001b[0;34m.\u001b[0m\u001b[0mcommon\u001b[0m \u001b[0;32mimport\u001b[0m \u001b[0;34m*\u001b[0m\u001b[0;34m\u001b[0m\u001b[0;34m\u001b[0m\u001b[0m\n\u001b[0m\u001b[1;32m     10\u001b[0m \u001b[0;32mfrom\u001b[0m \u001b[0mmodels\u001b[0m\u001b[0;34m.\u001b[0m\u001b[0mexperimental\u001b[0m \u001b[0;32mimport\u001b[0m \u001b[0;34m*\u001b[0m\u001b[0;34m\u001b[0m\u001b[0;34m\u001b[0m\u001b[0m\n\u001b[1;32m     11\u001b[0m \u001b[0;32mfrom\u001b[0m \u001b[0mutils\u001b[0m\u001b[0;34m.\u001b[0m\u001b[0mautoanchor\u001b[0m \u001b[0;32mimport\u001b[0m \u001b[0mcheck_anchor_order\u001b[0m\u001b[0;34m\u001b[0m\u001b[0;34m\u001b[0m\u001b[0m\n",
      "\u001b[0;32m/global/u1/c/cjacobus/ECEi_Detector/yolov5/models/common.py\u001b[0m in \u001b[0;36m<module>\u001b[0;34m\u001b[0m\n\u001b[1;32m     10\u001b[0m \u001b[0;32mfrom\u001b[0m \u001b[0mPIL\u001b[0m \u001b[0;32mimport\u001b[0m \u001b[0mImage\u001b[0m\u001b[0;34m\u001b[0m\u001b[0;34m\u001b[0m\u001b[0m\n\u001b[1;32m     11\u001b[0m \u001b[0;34m\u001b[0m\u001b[0m\n\u001b[0;32m---> 12\u001b[0;31m \u001b[0;32mfrom\u001b[0m \u001b[0mutils\u001b[0m\u001b[0;34m.\u001b[0m\u001b[0mdatasets\u001b[0m \u001b[0;32mimport\u001b[0m \u001b[0mletterbox\u001b[0m\u001b[0;34m\u001b[0m\u001b[0;34m\u001b[0m\u001b[0m\n\u001b[0m\u001b[1;32m     13\u001b[0m \u001b[0;32mfrom\u001b[0m \u001b[0mutils\u001b[0m\u001b[0;34m.\u001b[0m\u001b[0mgeneral\u001b[0m \u001b[0;32mimport\u001b[0m \u001b[0mnon_max_suppression\u001b[0m\u001b[0;34m,\u001b[0m \u001b[0mmake_divisible\u001b[0m\u001b[0;34m,\u001b[0m \u001b[0mscale_coords\u001b[0m\u001b[0;34m,\u001b[0m \u001b[0mxyxy2xywh\u001b[0m\u001b[0;34m\u001b[0m\u001b[0;34m\u001b[0m\u001b[0m\n\u001b[1;32m     14\u001b[0m \u001b[0;32mfrom\u001b[0m \u001b[0mutils\u001b[0m\u001b[0;34m.\u001b[0m\u001b[0mplots\u001b[0m \u001b[0;32mimport\u001b[0m \u001b[0mcolor_list\u001b[0m\u001b[0;34m,\u001b[0m \u001b[0mplot_one_box\u001b[0m\u001b[0;34m\u001b[0m\u001b[0;34m\u001b[0m\u001b[0m\n",
      "\u001b[0;32m/global/u1/c/cjacobus/ECEi_Detector/yolov5/utils/datasets.py\u001b[0m in \u001b[0;36m<module>\u001b[0;34m\u001b[0m\n\u001b[1;32m     13\u001b[0m \u001b[0;32mfrom\u001b[0m \u001b[0mthreading\u001b[0m \u001b[0;32mimport\u001b[0m \u001b[0mThread\u001b[0m\u001b[0;34m\u001b[0m\u001b[0;34m\u001b[0m\u001b[0m\n\u001b[1;32m     14\u001b[0m \u001b[0;34m\u001b[0m\u001b[0m\n\u001b[0;32m---> 15\u001b[0;31m \u001b[0;32mimport\u001b[0m \u001b[0mcv2\u001b[0m\u001b[0;34m\u001b[0m\u001b[0;34m\u001b[0m\u001b[0m\n\u001b[0m\u001b[1;32m     16\u001b[0m \u001b[0;32mimport\u001b[0m \u001b[0mnumpy\u001b[0m \u001b[0;32mas\u001b[0m \u001b[0mnp\u001b[0m\u001b[0;34m\u001b[0m\u001b[0;34m\u001b[0m\u001b[0m\n\u001b[1;32m     17\u001b[0m \u001b[0;32mimport\u001b[0m \u001b[0mtorch\u001b[0m\u001b[0;34m\u001b[0m\u001b[0;34m\u001b[0m\u001b[0m\n",
      "\u001b[0;31mModuleNotFoundError\u001b[0m: No module named 'cv2'"
     ]
    }
   ],
   "source": [
    "model = torch.load('/global/u1/c/cjacobus/ECEi_Detector/yolov5/best.pt')"
   ]
  },
  {
   "cell_type": "code",
   "execution_count": 10,
   "id": "2834c3e7-4023-4665-bd56-e03d5427377e",
   "metadata": {},
   "outputs": [
    {
     "ename": "ModuleNotFoundError",
     "evalue": "No module named 'cv2'",
     "output_type": "error",
     "traceback": [
      "\u001b[0;31m---------------------------------------------------------------------------\u001b[0m",
      "\u001b[0;31mModuleNotFoundError\u001b[0m                       Traceback (most recent call last)",
      "\u001b[0;32m/tmp/ipykernel_127934/571303353.py\u001b[0m in \u001b[0;36m<module>\u001b[0;34m\u001b[0m\n\u001b[0;32m----> 1\u001b[0;31m \u001b[0;32mimport\u001b[0m \u001b[0mcv2\u001b[0m\u001b[0;34m\u001b[0m\u001b[0;34m\u001b[0m\u001b[0m\n\u001b[0m",
      "\u001b[0;31mModuleNotFoundError\u001b[0m: No module named 'cv2'"
     ]
    }
   ],
   "source": [
    "import cv2"
   ]
  },
  {
   "cell_type": "code",
   "execution_count": null,
   "id": "1eb3bc02-4813-4c8b-8a88-62e6bafe01a9",
   "metadata": {},
   "outputs": [],
   "source": []
  }
 ],
 "metadata": {
  "kernelspec": {
   "display_name": "pytorch-1.9.0",
   "language": "python",
   "name": "pytorch-1.9.0"
  },
  "language_info": {
   "codemirror_mode": {
    "name": "ipython",
    "version": 3
   },
   "file_extension": ".py",
   "mimetype": "text/x-python",
   "name": "python",
   "nbconvert_exporter": "python",
   "pygments_lexer": "ipython3",
   "version": "3.8.11"
  }
 },
 "nbformat": 4,
 "nbformat_minor": 5
}
