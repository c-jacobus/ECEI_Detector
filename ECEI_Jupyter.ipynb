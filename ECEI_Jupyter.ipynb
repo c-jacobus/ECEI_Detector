{
 "cells": [
  {
   "cell_type": "code",
   "execution_count": 1,
   "id": "025f6e51-3946-47c9-b32b-bdcc4967f2ce",
   "metadata": {},
   "outputs": [],
   "source": [
    "from ECEI_utils import *"
   ]
  },
  {
   "cell_type": "code",
   "execution_count": 2,
   "id": "5ab2b59b-739d-49f8-8169-7c88b5be0c9b",
   "metadata": {},
   "outputs": [],
   "source": [
    "class Time_Attributes:\n",
    "    def __init__(self, /, **kwargs):\n",
    "        self.__dict__.update(kwargs)\n",
    "\n",
    "    def __repr__(self):\n",
    "        items = (f\"{k}={v!r}\" for k, v in self.__dict__.items())\n",
    "        return \"{}({})\".format(type(self).__name__, \", \".join(items))\n",
    "\n",
    "    def __eq__(self, other):\n",
    "        if isinstance(self, SimpleNamespace) and isinstance(other, SimpleNamespace):\n",
    "           return self.__dict__ == other.__dict__\n",
    "        return NotImplemented"
   ]
  },
  {
   "cell_type": "code",
   "execution_count": 3,
   "id": "e0b19add-e753-4d3a-892e-a0a4c9eae433",
   "metadata": {},
   "outputs": [],
   "source": [
    "time_args = Time_Attributes\n",
    "time_args.t1 = 2.600000\n",
    "time_args.t2 = 2.800000\n",
    "time_args.offset = -0.1\n",
    "time_args.dt = 2e-6\n",
    "time_args.numFrames = int(5e6)\n",
    "dir_path = \"/global/cscratch1/sd/rkube/KSTAR/kstar_streaming/\"\n",
    "shot = \"022289\"\n",
    "#shot = \"025522\"\n",
    "#shot = \"025086\""
   ]
  },
  {
   "cell_type": "code",
   "execution_count": 4,
   "id": "8b4db738-e999-416b-ab42-3c0724580ac2",
   "metadata": {},
   "outputs": [
    {
     "name": "stdout",
     "output_type": "stream",
     "text": [
      "loading datafile:\n",
      "SPECIFIED RANGE: seconds [2.6, 2.8] , frames [1350000, 1450000] \n",
      "('ECEI', <HDF5 group \"/ECEI\" (192 members)>)\n"
     ]
    },
    {
     "ename": "NameError",
     "evalue": "name 'numFrames' is not defined",
     "output_type": "error",
     "traceback": [
      "\u001b[0;31m---------------------------------------------------------------------------\u001b[0m",
      "\u001b[0;31mNameError\u001b[0m                                 Traceback (most recent call last)",
      "\u001b[0;32m<ipython-input-4-eac95aebbb1d>\u001b[0m in \u001b[0;36m<module>\u001b[0;34m\u001b[0m\n\u001b[0;32m----> 1\u001b[0;31m \u001b[0mv_filt\u001b[0m\u001b[0;34m,\u001b[0m \u001b[0mtime_args\u001b[0m\u001b[0;34m.\u001b[0m\u001b[0mfr1\u001b[0m\u001b[0;34m,\u001b[0m \u001b[0mtime_args\u001b[0m\u001b[0;34m.\u001b[0m\u001b[0mfr2\u001b[0m \u001b[0;34m=\u001b[0m \u001b[0mload_file\u001b[0m\u001b[0;34m(\u001b[0m\u001b[0mdir_path\u001b[0m\u001b[0;34m,\u001b[0m \u001b[0mshot\u001b[0m\u001b[0;34m,\u001b[0m \u001b[0mtime_args\u001b[0m\u001b[0;34m)\u001b[0m\u001b[0;34m\u001b[0m\u001b[0;34m\u001b[0m\u001b[0m\n\u001b[0m",
      "\u001b[0;32m/global/u1/c/cjacobus/PPPL/ECEI_utils.py\u001b[0m in \u001b[0;36mload_file\u001b[0;34m(dir_path, shot, time_args)\u001b[0m\n\u001b[1;32m    284\u001b[0m     \u001b[0mwholeArray\u001b[0m \u001b[0;34m=\u001b[0m \u001b[0mnp\u001b[0m\u001b[0;34m.\u001b[0m\u001b[0mzeros\u001b[0m\u001b[0;34m(\u001b[0m\u001b[0;34m(\u001b[0m\u001b[0;36m24\u001b[0m\u001b[0;34m,\u001b[0m\u001b[0;36m8\u001b[0m\u001b[0;34m,\u001b[0m\u001b[0mtime_args\u001b[0m\u001b[0;34m.\u001b[0m\u001b[0mnumFrames\u001b[0m\u001b[0;34m)\u001b[0m\u001b[0;34m)\u001b[0m\u001b[0;34m\u001b[0m\u001b[0;34m\u001b[0m\u001b[0m\n\u001b[1;32m    285\u001b[0m \u001b[0;34m\u001b[0m\u001b[0m\n\u001b[0;32m--> 286\u001b[0;31m     \u001b[0mprint\u001b[0m\u001b[0;34m(\u001b[0m\u001b[0;34mf\"loading {numFrames} 8x24 slices...\"\u001b[0m\u001b[0;34m)\u001b[0m\u001b[0;34m\u001b[0m\u001b[0;34m\u001b[0m\u001b[0m\n\u001b[0m\u001b[1;32m    287\u001b[0m \u001b[0;34m\u001b[0m\u001b[0m\n\u001b[1;32m    288\u001b[0m     \u001b[0;32mfor\u001b[0m \u001b[0mitem\u001b[0m \u001b[0;32min\u001b[0m \u001b[0mdatafile\u001b[0m\u001b[0;34m[\u001b[0m\u001b[0;34m\"/ECEI\"\u001b[0m\u001b[0;34m]\u001b[0m\u001b[0;34m.\u001b[0m\u001b[0mitems\u001b[0m\u001b[0;34m(\u001b[0m\u001b[0;34m)\u001b[0m\u001b[0;34m:\u001b[0m\u001b[0;34m\u001b[0m\u001b[0;34m\u001b[0m\u001b[0m\n",
      "\u001b[0;31mNameError\u001b[0m: name 'numFrames' is not defined"
     ]
    }
   ],
   "source": [
    "v_filt, time_args.fr1, time_args.fr2 = load_file(dir_path, shot, time_args)"
   ]
  },
  {
   "cell_type": "code",
   "execution_count": 7,
   "id": "f356ef15-4659-46a8-b999-7b0dd2ecaed8",
   "metadata": {},
   "outputs": [
    {
     "ename": "TypeError",
     "evalue": "frame_from_time() takes 1 positional argument but 2 were given",
     "output_type": "error",
     "traceback": [
      "\u001b[0;31m---------------------------------------------------------------------------\u001b[0m",
      "\u001b[0;31mTypeError\u001b[0m                                 Traceback (most recent call last)",
      "\u001b[0;32m<ipython-input-7-443c6af8b9d8>\u001b[0m in \u001b[0;36m<module>\u001b[0;34m\u001b[0m\n\u001b[0;32m----> 1\u001b[0;31m \u001b[0mthis_frame\u001b[0m \u001b[0;34m=\u001b[0m\u001b[0mframe_from_time\u001b[0m\u001b[0;34m(\u001b[0m\u001b[0;36m2.717400\u001b[0m\u001b[0;34m,\u001b[0m \u001b[0mtime_args\u001b[0m\u001b[0;34m)\u001b[0m\u001b[0;34m\u001b[0m\u001b[0;34m\u001b[0m\u001b[0m\n\u001b[0m\u001b[1;32m      2\u001b[0m \u001b[0mprint\u001b[0m\u001b[0;34m(\u001b[0m\u001b[0;34mf\"frame = {this_frame}\"\u001b[0m\u001b[0;34m)\u001b[0m\u001b[0;34m\u001b[0m\u001b[0;34m\u001b[0m\u001b[0m\n\u001b[1;32m      3\u001b[0m \u001b[0minterp_contour\u001b[0m\u001b[0;34m(\u001b[0m\u001b[0mv_filt\u001b[0m\u001b[0;34m[\u001b[0m\u001b[0;34m:\u001b[0m\u001b[0;34m,\u001b[0m\u001b[0;34m:\u001b[0m\u001b[0;34m,\u001b[0m\u001b[0mthis_frame\u001b[0m\u001b[0;34m]\u001b[0m\u001b[0;34m,\u001b[0m \u001b[0;34mf\"frame = {this_frame}\"\u001b[0m\u001b[0;34m)\u001b[0m\u001b[0;34m\u001b[0m\u001b[0;34m\u001b[0m\u001b[0m\n\u001b[1;32m      4\u001b[0m \u001b[0mplt\u001b[0m\u001b[0;34m.\u001b[0m\u001b[0mshow\u001b[0m\u001b[0;34m(\u001b[0m\u001b[0;34m)\u001b[0m\u001b[0;34m\u001b[0m\u001b[0;34m\u001b[0m\u001b[0m\n\u001b[1;32m      5\u001b[0m \u001b[0mplot_frame\u001b[0m\u001b[0;34m(\u001b[0m\u001b[0mv_filt\u001b[0m\u001b[0;34m[\u001b[0m\u001b[0;34m:\u001b[0m\u001b[0;34m,\u001b[0m\u001b[0;34m:\u001b[0m\u001b[0;34m,\u001b[0m\u001b[0mthis_frame\u001b[0m\u001b[0;34m]\u001b[0m\u001b[0;34m,\u001b[0m \u001b[0;34mf\"frame = {this_frame}\"\u001b[0m\u001b[0;34m)\u001b[0m\u001b[0;34m\u001b[0m\u001b[0;34m\u001b[0m\u001b[0m\n",
      "\u001b[0;31mTypeError\u001b[0m: frame_from_time() takes 1 positional argument but 2 were given"
     ]
    }
   ],
   "source": [
    "this_frame =frame_from_time(2.717400, time_args)\n",
    "print(f\"frame = {this_frame}\")\n",
    "interp_contour(v_filt[:,:,this_frame], f\"frame = {this_frame}\")\n",
    "plt.show()\n",
    "plot_frame(v_filt[:,:,this_frame], f\"frame = {this_frame}\")\n",
    "plt.show()"
   ]
  },
  {
   "cell_type": "code",
   "execution_count": null,
   "id": "e4036f34-579d-49be-b3c3-22cbd4a70e4a",
   "metadata": {},
   "outputs": [],
   "source": []
  }
 ],
 "metadata": {
  "kernelspec": {
   "display_name": "MyEnv",
   "language": "python",
   "name": "myenv"
  },
  "language_info": {
   "codemirror_mode": {
    "name": "ipython",
    "version": 3
   },
   "file_extension": ".py",
   "mimetype": "text/x-python",
   "name": "python",
   "nbconvert_exporter": "python",
   "pygments_lexer": "ipython3",
   "version": "3.9.0"
  }
 },
 "nbformat": 4,
 "nbformat_minor": 5
}
