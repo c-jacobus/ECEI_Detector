{
 "cells": [
  {
   "cell_type": "code",
   "execution_count": 1,
   "id": "7e46a478-3467-4bb0-a6c0-1fa79a005698",
   "metadata": {},
   "outputs": [
    {
     "name": "stdout",
     "output_type": "stream",
     "text": [
      "fatal: destination path 'yolov5' already exists and is not an empty directory.\n",
      "/global/u1/c/cjacobus/ECEi_Detector/Custom Yolov5/yolov5\n",
      "Note: you may need to restart the kernel to use updated packages.\n",
      "Note: you may need to restart the kernel to use updated packages.\n"
     ]
    }
   ],
   "source": [
    "#clone YOLOv5 and \n",
    "!git clone https://github.com/ultralytics/yolov5  # clone repo\n",
    "%cd yolov5\n",
    "%pip install -qr requirements.txt # install dependencies\n",
    "%pip install -q roboflow\n",
    "\n"
   ]
  },
  {
   "cell_type": "code",
   "execution_count": 3,
   "id": "d06c90a9-f8bb-44f4-b690-ea4a59a12420",
   "metadata": {},
   "outputs": [
    {
     "name": "stdout",
     "output_type": "stream",
     "text": [
      "Setup complete. Using torch 1.7.1 (A100-PCIE-40GB)\n"
     ]
    }
   ],
   "source": [
    "import torch\n",
    "torch.cuda.is_available()\n",
    "import os\n",
    "from IPython.display import Image, clear_output  # to display images\n",
    "\n",
    "print(f\"Setup complete. Using torch {torch.__version__} ({torch.cuda.get_device_properties(0).name if torch.cuda.is_available() else 'CPU'})\")"
   ]
  },
  {
   "cell_type": "code",
   "execution_count": 4,
   "id": "d17f1a85-dd53-4ad5-ab28-84ddfe9f1a96",
   "metadata": {},
   "outputs": [
    {
     "name": "stdout",
     "output_type": "stream",
     "text": [
      "upload and label your dataset, and get an API KEY here: https://app.roboflow.com/?model=yolov5&ref=ultralytics\n"
     ]
    }
   ],
   "source": [
    "from roboflow import Roboflow\n",
    "rf = Roboflow(model_format=\"yolov5\", notebook=\"ultralytics\")"
   ]
  },
  {
   "cell_type": "code",
   "execution_count": 5,
   "id": "6917d106-6b40-41db-b952-bad815e978ea",
   "metadata": {},
   "outputs": [],
   "source": [
    "# set up environment\n",
    "os.environ[\"DATASET_DIRECTORY\"] = \"/global/u1/c/cjacobus/ECEi_Detector/Custom Yolov5/datasets\""
   ]
  },
  {
   "cell_type": "code",
   "execution_count": 6,
   "id": "a243600f-d759-4a46-865f-5f53246dacda",
   "metadata": {},
   "outputs": [
    {
     "name": "stdout",
     "output_type": "stream",
     "text": [
      "loading Roboflow workspace...\n",
      "loading Roboflow project...\n",
      "Downloading Dataset Version Zip in /global/u1/c/cjacobus/ECEi_Detector/Custom Yolov5/datasets/New-COLOR-Filaments-1 to yolov5pytorch: 100% [3026064 / 3026064] bytes\n"
     ]
    },
    {
     "name": "stderr",
     "output_type": "stream",
     "text": [
      "Extracting Dataset Version Zip to /global/u1/c/cjacobus/ECEi_Detector/Custom Yolov5/datasets/New-COLOR-Filaments-1 in yolov5pytorch:: 100%|██████████| 1216/1216 [00:01<00:00, 1000.42it/s]\n"
     ]
    }
   ],
   "source": [
    "from roboflow import Roboflow\n",
    "rf = Roboflow(api_key=\"l2elaRfp8J5dlFGnZMEV\")\n",
    "project = rf.workspace(\"new-ecei-filaments\").project(\"new-color-filaments\")\n",
    "dataset = project.version(1).download(\"yolov5\")"
   ]
  },
  {
   "cell_type": "code",
   "execution_count": 7,
   "id": "bf3279bb-9433-491e-acc2-e529de355c50",
   "metadata": {},
   "outputs": [
    {
     "name": "stdout",
     "output_type": "stream",
     "text": [
      "Traceback (most recent call last):\n",
      "  File \"train.py\", line 13, in <module>\n",
      "    import torch.distributed as dist\n",
      "ModuleNotFoundError: No module named 'torch'\n"
     ]
    }
   ],
   "source": [
    "!python3 train.py --img 384 --batch 16 --epochs 100 --data {dataset.location}/data.yaml --weights yolov5s.pt --cache"
   ]
  },
  {
   "cell_type": "code",
   "execution_count": null,
   "id": "12f83f59-5e9c-4032-94d5-e5fe80fa839e",
   "metadata": {},
   "outputs": [],
   "source": []
  }
 ],
 "metadata": {
  "kernelspec": {
   "display_name": "MyEnv",
   "language": "python",
   "name": "myenv"
  },
  "language_info": {
   "codemirror_mode": {
    "name": "ipython",
    "version": 3
   },
   "file_extension": ".py",
   "mimetype": "text/x-python",
   "name": "python",
   "nbconvert_exporter": "python",
   "pygments_lexer": "ipython3",
   "version": "3.9.0"
  }
 },
 "nbformat": 4,
 "nbformat_minor": 5
}
